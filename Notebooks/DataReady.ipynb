{
 "cells": [
  {
   "cell_type": "code",
   "execution_count": 1,
   "id": "095aaa16",
   "metadata": {},
   "outputs": [],
   "source": [
    "# Core libraries and paths.\n",
    "\n",
    "from pathlib import Path\n",
    "import pandas as pd\n",
    "import matplotlib.pyplot as plt\n",
    "\n",
    "DIR = Path(\"ml-100k\")  \n",
    "f_data = DIR / \"u.data\"\n",
    "f_item = DIR / \"u.item\"\n",
    "f_user = DIR / \"u.user\""
   ]
  },
  {
   "cell_type": "markdown",
   "id": "6bcbcee0",
   "metadata": {},
   "source": [
    "## Load Data\n",
    "Read MovieLens files."
   ]
  },
  {
   "cell_type": "code",
   "execution_count": 2,
   "id": "7851f505",
   "metadata": {},
   "outputs": [],
   "source": [
    "# ratings (tab-separated)\n",
    "ratings = pd.read_csv(\n",
    "    f_data, sep=\"\\t\", header=None,\n",
    "    names=[\"user_id\", \"movie_id\", \"rating\", \"timestamp\"],\n",
    "    dtype={\"user_id\":\"int32\",\"movie_id\":\"int32\",\"rating\":\"int8\",\"timestamp\":\"int64\"}\n",
    ")\n",
    "\n",
    "# movies (pipe-separated, latin-1)\n",
    "movie_cols = [\n",
    "    \"movie_id\",\"title\",\"release_date\",\"video_release_date\",\"imdb_url\",\n",
    "    \"unknown\",\"Action\",\"Adventure\",\"Animation\",\"Children's\",\"Comedy\",\"Crime\",\n",
    "    \"Documentary\",\"Drama\",\"Fantasy\",\"Film-Noir\",\"Horror\",\"Musical\",\"Mystery\",\n",
    "    \"Romance\",\"Sci-Fi\",\"Thriller\",\"War\",\"Western\"\n",
    "]\n",
    "movies = pd.read_csv(f_item, sep=\"|\", header=None, names=movie_cols, encoding=\"latin-1\")\n",
    "\n",
    "# users (pipe-separated)\n",
    "users = pd.read_csv(\n",
    "    f_user, sep=\"|\", header=None,\n",
    "    names=[\"user_id\",\"age\",\"gender\",\"occupation\",\"zip_code\"],\n",
    "    dtype={\"user_id\":\"int32\",\"age\":\"int16\",\"gender\":\"category\",\"occupation\":\"category\",\"zip_code\":\"string\"}\n",
    ")"
   ]
  },
  {
   "cell_type": "markdown",
   "id": "2bf88a66",
   "metadata": {},
   "source": [
    "## Timestamp Conversion\n",
    "Transform UNIX timestamps to `datetime`."
   ]
  },
  {
   "cell_type": "code",
   "execution_count": 3,
   "id": "9c6a16dd",
   "metadata": {},
   "outputs": [],
   "source": [
    "ratings[\"datetime\"] = pd.to_datetime(ratings[\"timestamp\"], unit=\"s\")\n",
    "ratings.drop(columns=\"timestamp\", inplace=True)"
   ]
  },
  {
   "cell_type": "markdown",
   "id": "ec1c1887",
   "metadata": {},
   "source": [
    "## Sanity Checks\n",
    "Shapes, unique IDs, nulls."
   ]
  },
  {
   "cell_type": "code",
   "execution_count": 4,
   "id": "cf551e54",
   "metadata": {},
   "outputs": [
    {
     "data": {
      "text/html": [
       "<style type=\"text/css\">\n",
       "</style>\n",
       "<table id=\"T_0353d\">\n",
       "  <thead>\n",
       "    <tr>\n",
       "      <th id=\"T_0353d_level0_col0\" class=\"col_heading level0 col0\" >Metric</th>\n",
       "      <th id=\"T_0353d_level0_col1\" class=\"col_heading level0 col1\" >Value</th>\n",
       "    </tr>\n",
       "  </thead>\n",
       "  <tbody>\n",
       "    <tr>\n",
       "      <td id=\"T_0353d_row0_col0\" class=\"data row0 col0\" >Dataset Shape (Ratings)</td>\n",
       "      <td id=\"T_0353d_row0_col1\" class=\"data row0 col1\" >(100000, 4)</td>\n",
       "    </tr>\n",
       "    <tr>\n",
       "      <td id=\"T_0353d_row1_col0\" class=\"data row1 col0\" >Dataset Shape (Movies)</td>\n",
       "      <td id=\"T_0353d_row1_col1\" class=\"data row1 col1\" >(1682, 24)</td>\n",
       "    </tr>\n",
       "    <tr>\n",
       "      <td id=\"T_0353d_row2_col0\" class=\"data row2 col0\" >Dataset Shape (Users)</td>\n",
       "      <td id=\"T_0353d_row2_col1\" class=\"data row2 col1\" >(943, 5)</td>\n",
       "    </tr>\n",
       "    <tr>\n",
       "      <td id=\"T_0353d_row3_col0\" class=\"data row3 col0\" >Unique Users in Ratings</td>\n",
       "      <td id=\"T_0353d_row3_col1\" class=\"data row3 col1\" >943</td>\n",
       "    </tr>\n",
       "    <tr>\n",
       "      <td id=\"T_0353d_row4_col0\" class=\"data row4 col0\" >Unique Movies in Ratings</td>\n",
       "      <td id=\"T_0353d_row4_col1\" class=\"data row4 col1\" >1682</td>\n",
       "    </tr>\n",
       "    <tr>\n",
       "      <td id=\"T_0353d_row5_col0\" class=\"data row5 col0\" >Missing Values in Ratings</td>\n",
       "      <td id=\"T_0353d_row5_col1\" class=\"data row5 col1\" >0</td>\n",
       "    </tr>\n",
       "    <tr>\n",
       "      <td id=\"T_0353d_row6_col0\" class=\"data row6 col0\" >Missing Movie Titles</td>\n",
       "      <td id=\"T_0353d_row6_col1\" class=\"data row6 col1\" >0</td>\n",
       "    </tr>\n",
       "    <tr>\n",
       "      <td id=\"T_0353d_row7_col0\" class=\"data row7 col0\" >Missing Values in Users</td>\n",
       "      <td id=\"T_0353d_row7_col1\" class=\"data row7 col1\" >0</td>\n",
       "    </tr>\n",
       "  </tbody>\n",
       "</table>\n"
      ],
      "text/plain": [
       "<pandas.io.formats.style.Styler at 0x2ae8bb65e80>"
      ]
     },
     "metadata": {},
     "output_type": "display_data"
    }
   ],
   "source": [
    "summary = pd.DataFrame(\n",
    "    [\n",
    "        [\"Dataset Shape (Ratings)\", str(ratings.shape)],\n",
    "        [\"Dataset Shape (Movies)\",  str(movies.shape)],\n",
    "        [\"Dataset Shape (Users)\",   str(users.shape)],\n",
    "        [\"Unique Users in Ratings\", ratings[\"user_id\"].nunique()],\n",
    "        [\"Unique Movies in Ratings\",ratings[\"movie_id\"].nunique()],\n",
    "        [\"Missing Values in Ratings\", int(ratings.isna().sum().sum())],\n",
    "        [\"Missing Movie Titles\",       int(movies[\"title\"].isna().sum())],\n",
    "        [\"Missing Values in Users\",    int(users.isna().sum().sum())],\n",
    "    ],\n",
    "    columns=[\"Metric\",\"Value\"]\n",
    ")\n",
    "display(summary.style.hide(axis=\"index\"))"
   ]
  },
  {
   "cell_type": "markdown",
   "id": "290db49a",
   "metadata": {},
   "source": [
    "## Data Preview  \n",
    "Quick peek at `ratings`, `movies`, and `users` tables.  "
   ]
  },
  {
   "cell_type": "code",
   "execution_count": 5,
   "id": "3ea23bb3",
   "metadata": {},
   "outputs": [
    {
     "data": {
      "text/html": [
       "<style type=\"text/css\">\n",
       "</style>\n",
       "<table id=\"T_a1bec\">\n",
       "  <caption>Ratings Sample</caption>\n",
       "  <thead>\n",
       "    <tr>\n",
       "      <th class=\"blank level0\" >&nbsp;</th>\n",
       "      <th id=\"T_a1bec_level0_col0\" class=\"col_heading level0 col0\" >user_id</th>\n",
       "      <th id=\"T_a1bec_level0_col1\" class=\"col_heading level0 col1\" >movie_id</th>\n",
       "      <th id=\"T_a1bec_level0_col2\" class=\"col_heading level0 col2\" >rating</th>\n",
       "      <th id=\"T_a1bec_level0_col3\" class=\"col_heading level0 col3\" >datetime</th>\n",
       "    </tr>\n",
       "  </thead>\n",
       "  <tbody>\n",
       "    <tr>\n",
       "      <th id=\"T_a1bec_level0_row0\" class=\"row_heading level0 row0\" >0</th>\n",
       "      <td id=\"T_a1bec_row0_col0\" class=\"data row0 col0\" >196</td>\n",
       "      <td id=\"T_a1bec_row0_col1\" class=\"data row0 col1\" >242</td>\n",
       "      <td id=\"T_a1bec_row0_col2\" class=\"data row0 col2\" >3</td>\n",
       "      <td id=\"T_a1bec_row0_col3\" class=\"data row0 col3\" >1997-12-04 15:55:49</td>\n",
       "    </tr>\n",
       "    <tr>\n",
       "      <th id=\"T_a1bec_level0_row1\" class=\"row_heading level0 row1\" >1</th>\n",
       "      <td id=\"T_a1bec_row1_col0\" class=\"data row1 col0\" >186</td>\n",
       "      <td id=\"T_a1bec_row1_col1\" class=\"data row1 col1\" >302</td>\n",
       "      <td id=\"T_a1bec_row1_col2\" class=\"data row1 col2\" >3</td>\n",
       "      <td id=\"T_a1bec_row1_col3\" class=\"data row1 col3\" >1998-04-04 19:22:22</td>\n",
       "    </tr>\n",
       "    <tr>\n",
       "      <th id=\"T_a1bec_level0_row2\" class=\"row_heading level0 row2\" >2</th>\n",
       "      <td id=\"T_a1bec_row2_col0\" class=\"data row2 col0\" >22</td>\n",
       "      <td id=\"T_a1bec_row2_col1\" class=\"data row2 col1\" >377</td>\n",
       "      <td id=\"T_a1bec_row2_col2\" class=\"data row2 col2\" >1</td>\n",
       "      <td id=\"T_a1bec_row2_col3\" class=\"data row2 col3\" >1997-11-07 07:18:36</td>\n",
       "    </tr>\n",
       "  </tbody>\n",
       "</table>\n"
      ],
      "text/plain": [
       "<pandas.io.formats.style.Styler at 0x2ae8baca990>"
      ]
     },
     "metadata": {},
     "output_type": "display_data"
    },
    {
     "data": {
      "text/html": [
       "<style type=\"text/css\">\n",
       "</style>\n",
       "<table id=\"T_e15ae\">\n",
       "  <caption>Movies Sample</caption>\n",
       "  <thead>\n",
       "    <tr>\n",
       "      <th class=\"blank level0\" >&nbsp;</th>\n",
       "      <th id=\"T_e15ae_level0_col0\" class=\"col_heading level0 col0\" >movie_id</th>\n",
       "      <th id=\"T_e15ae_level0_col1\" class=\"col_heading level0 col1\" >title</th>\n",
       "      <th id=\"T_e15ae_level0_col2\" class=\"col_heading level0 col2\" >release_date</th>\n",
       "    </tr>\n",
       "  </thead>\n",
       "  <tbody>\n",
       "    <tr>\n",
       "      <th id=\"T_e15ae_level0_row0\" class=\"row_heading level0 row0\" >0</th>\n",
       "      <td id=\"T_e15ae_row0_col0\" class=\"data row0 col0\" >1</td>\n",
       "      <td id=\"T_e15ae_row0_col1\" class=\"data row0 col1\" >Toy Story (1995)</td>\n",
       "      <td id=\"T_e15ae_row0_col2\" class=\"data row0 col2\" >01-Jan-1995</td>\n",
       "    </tr>\n",
       "    <tr>\n",
       "      <th id=\"T_e15ae_level0_row1\" class=\"row_heading level0 row1\" >1</th>\n",
       "      <td id=\"T_e15ae_row1_col0\" class=\"data row1 col0\" >2</td>\n",
       "      <td id=\"T_e15ae_row1_col1\" class=\"data row1 col1\" >GoldenEye (1995)</td>\n",
       "      <td id=\"T_e15ae_row1_col2\" class=\"data row1 col2\" >01-Jan-1995</td>\n",
       "    </tr>\n",
       "    <tr>\n",
       "      <th id=\"T_e15ae_level0_row2\" class=\"row_heading level0 row2\" >2</th>\n",
       "      <td id=\"T_e15ae_row2_col0\" class=\"data row2 col0\" >3</td>\n",
       "      <td id=\"T_e15ae_row2_col1\" class=\"data row2 col1\" >Four Rooms (1995)</td>\n",
       "      <td id=\"T_e15ae_row2_col2\" class=\"data row2 col2\" >01-Jan-1995</td>\n",
       "    </tr>\n",
       "  </tbody>\n",
       "</table>\n"
      ],
      "text/plain": [
       "<pandas.io.formats.style.Styler at 0x2ae8bacaad0>"
      ]
     },
     "metadata": {},
     "output_type": "display_data"
    },
    {
     "data": {
      "text/html": [
       "<style type=\"text/css\">\n",
       "</style>\n",
       "<table id=\"T_e7d55\">\n",
       "  <caption>Users Sample</caption>\n",
       "  <thead>\n",
       "    <tr>\n",
       "      <th class=\"blank level0\" >&nbsp;</th>\n",
       "      <th id=\"T_e7d55_level0_col0\" class=\"col_heading level0 col0\" >user_id</th>\n",
       "      <th id=\"T_e7d55_level0_col1\" class=\"col_heading level0 col1\" >age</th>\n",
       "      <th id=\"T_e7d55_level0_col2\" class=\"col_heading level0 col2\" >gender</th>\n",
       "      <th id=\"T_e7d55_level0_col3\" class=\"col_heading level0 col3\" >occupation</th>\n",
       "      <th id=\"T_e7d55_level0_col4\" class=\"col_heading level0 col4\" >zip_code</th>\n",
       "    </tr>\n",
       "  </thead>\n",
       "  <tbody>\n",
       "    <tr>\n",
       "      <th id=\"T_e7d55_level0_row0\" class=\"row_heading level0 row0\" >0</th>\n",
       "      <td id=\"T_e7d55_row0_col0\" class=\"data row0 col0\" >1</td>\n",
       "      <td id=\"T_e7d55_row0_col1\" class=\"data row0 col1\" >24</td>\n",
       "      <td id=\"T_e7d55_row0_col2\" class=\"data row0 col2\" >M</td>\n",
       "      <td id=\"T_e7d55_row0_col3\" class=\"data row0 col3\" >technician</td>\n",
       "      <td id=\"T_e7d55_row0_col4\" class=\"data row0 col4\" >85711</td>\n",
       "    </tr>\n",
       "    <tr>\n",
       "      <th id=\"T_e7d55_level0_row1\" class=\"row_heading level0 row1\" >1</th>\n",
       "      <td id=\"T_e7d55_row1_col0\" class=\"data row1 col0\" >2</td>\n",
       "      <td id=\"T_e7d55_row1_col1\" class=\"data row1 col1\" >53</td>\n",
       "      <td id=\"T_e7d55_row1_col2\" class=\"data row1 col2\" >F</td>\n",
       "      <td id=\"T_e7d55_row1_col3\" class=\"data row1 col3\" >other</td>\n",
       "      <td id=\"T_e7d55_row1_col4\" class=\"data row1 col4\" >94043</td>\n",
       "    </tr>\n",
       "    <tr>\n",
       "      <th id=\"T_e7d55_level0_row2\" class=\"row_heading level0 row2\" >2</th>\n",
       "      <td id=\"T_e7d55_row2_col0\" class=\"data row2 col0\" >3</td>\n",
       "      <td id=\"T_e7d55_row2_col1\" class=\"data row2 col1\" >23</td>\n",
       "      <td id=\"T_e7d55_row2_col2\" class=\"data row2 col2\" >M</td>\n",
       "      <td id=\"T_e7d55_row2_col3\" class=\"data row2 col3\" >writer</td>\n",
       "      <td id=\"T_e7d55_row2_col4\" class=\"data row2 col4\" >32067</td>\n",
       "    </tr>\n",
       "  </tbody>\n",
       "</table>\n"
      ],
      "text/plain": [
       "<pandas.io.formats.style.Styler at 0x2ae8bacafd0>"
      ]
     },
     "metadata": {},
     "output_type": "display_data"
    }
   ],
   "source": [
    "display(\n",
    "    ratings.head(3).style.set_caption(\"Ratings Sample\"),\n",
    "    movies[[\"movie_id\",\"title\",\"release_date\"]].head(3).style.set_caption(\"Movies Sample\"),\n",
    "    users.head(3).style.set_caption(\"Users Sample\")\n",
    ")"
   ]
  },
  {
   "cell_type": "markdown",
   "id": "4036b20f",
   "metadata": {},
   "source": [
    "## Missingness Overview\n",
    "Summarize total null values across datasets to identify where cleaning is required.\n"
   ]
  },
  {
   "cell_type": "code",
   "execution_count": 6,
   "id": "eb5d29fe",
   "metadata": {},
   "outputs": [
    {
     "data": {
      "text/html": [
       "<style type=\"text/css\">\n",
       "</style>\n",
       "<table id=\"T_70e41\">\n",
       "  <thead>\n",
       "    <tr>\n",
       "      <th id=\"T_70e41_level0_col0\" class=\"col_heading level0 col0\" >Dataset</th>\n",
       "      <th id=\"T_70e41_level0_col1\" class=\"col_heading level0 col1\" >Total Nulls</th>\n",
       "    </tr>\n",
       "  </thead>\n",
       "  <tbody>\n",
       "    <tr>\n",
       "      <td id=\"T_70e41_row0_col0\" class=\"data row0 col0\" >Ratings</td>\n",
       "      <td id=\"T_70e41_row0_col1\" class=\"data row0 col1\" >0</td>\n",
       "    </tr>\n",
       "    <tr>\n",
       "      <td id=\"T_70e41_row1_col0\" class=\"data row1 col0\" >Movies</td>\n",
       "      <td id=\"T_70e41_row1_col1\" class=\"data row1 col1\" >1686</td>\n",
       "    </tr>\n",
       "    <tr>\n",
       "      <td id=\"T_70e41_row2_col0\" class=\"data row2 col0\" >Users</td>\n",
       "      <td id=\"T_70e41_row2_col1\" class=\"data row2 col1\" >0</td>\n",
       "    </tr>\n",
       "  </tbody>\n",
       "</table>\n"
      ],
      "text/plain": [
       "<pandas.io.formats.style.Styler at 0x2ae8baca990>"
      ]
     },
     "metadata": {},
     "output_type": "display_data"
    }
   ],
   "source": [
    "nulls_summary = pd.DataFrame({\n",
    "    \"Dataset\": [\"Ratings\", \"Movies\", \"Users\"],\n",
    "    \"Total Nulls\": [\n",
    "        ratings.isnull().sum().sum(),\n",
    "        movies.isnull().sum().sum(),\n",
    "        users.isnull().sum().sum(),\n",
    "    ]\n",
    "})\n",
    "\n",
    "display(nulls_summary.style.hide(axis=\"index\"))"
   ]
  },
  {
   "cell_type": "code",
   "execution_count": 7,
   "id": "00ecdc5e",
   "metadata": {},
   "outputs": [
    {
     "data": {
      "text/html": [
       "<div>\n",
       "<style scoped>\n",
       "    .dataframe tbody tr th:only-of-type {\n",
       "        vertical-align: middle;\n",
       "    }\n",
       "\n",
       "    .dataframe tbody tr th {\n",
       "        vertical-align: top;\n",
       "    }\n",
       "\n",
       "    .dataframe thead th {\n",
       "        text-align: right;\n",
       "    }\n",
       "</style>\n",
       "<table border=\"1\" class=\"dataframe\">\n",
       "  <thead>\n",
       "    <tr style=\"text-align: right;\">\n",
       "      <th></th>\n",
       "      <th>Missing Values</th>\n",
       "    </tr>\n",
       "  </thead>\n",
       "  <tbody>\n",
       "    <tr>\n",
       "      <th>release_date</th>\n",
       "      <td>1</td>\n",
       "    </tr>\n",
       "    <tr>\n",
       "      <th>video_release_date</th>\n",
       "      <td>1682</td>\n",
       "    </tr>\n",
       "    <tr>\n",
       "      <th>imdb_url</th>\n",
       "      <td>3</td>\n",
       "    </tr>\n",
       "  </tbody>\n",
       "</table>\n",
       "</div>"
      ],
      "text/plain": [
       "                    Missing Values\n",
       "release_date                     1\n",
       "video_release_date            1682\n",
       "imdb_url                         3"
      ]
     },
     "metadata": {},
     "output_type": "display_data"
    }
   ],
   "source": [
    "# Nulls by column in Movies\n",
    "movies_nulls = movies.isnull().sum()\n",
    "movies_nulls = movies_nulls[movies_nulls > 0].to_frame(\"Missing Values\")\n",
    "\n",
    "display(movies_nulls)"
   ]
  },
  {
   "cell_type": "markdown",
   "id": "ef524b8a",
   "metadata": {},
   "source": [
    "## Data Cleaning (Movies)\n",
    "Remove the all-null column `video_release_date` and drop residual rows with critical missing fields.\n"
   ]
  },
  {
   "cell_type": "code",
   "execution_count": 8,
   "id": "bb5a90ce",
   "metadata": {},
   "outputs": [
    {
     "name": "stdout",
     "output_type": "stream",
     "text": [
      "> Cleaned Movies shape: (1679, 23)\n"
     ]
    }
   ],
   "source": [
    "# Drop column with all nulls\n",
    "movies = movies.drop(columns=[\"video_release_date\"])\n",
    "\n",
    "# Drop rows with any remaining nulls\n",
    "movies = movies.dropna()\n",
    "\n",
    "print(\"> Cleaned Movies shape:\", movies.shape)"
   ]
  },
  {
   "cell_type": "markdown",
   "id": "dc52af0f",
   "metadata": {},
   "source": [
    "## Ratings × Movies Join\n",
    "Attach titles (and release dates) to each rating to produce a unified interaction table.\n"
   ]
  },
  {
   "cell_type": "code",
   "execution_count": 9,
   "id": "a61a48e3",
   "metadata": {},
   "outputs": [
    {
     "name": "stdout",
     "output_type": "stream",
     "text": [
      "Merged shape: (100000, 6)\n"
     ]
    },
    {
     "data": {
      "text/html": [
       "<div>\n",
       "<style scoped>\n",
       "    .dataframe tbody tr th:only-of-type {\n",
       "        vertical-align: middle;\n",
       "    }\n",
       "\n",
       "    .dataframe tbody tr th {\n",
       "        vertical-align: top;\n",
       "    }\n",
       "\n",
       "    .dataframe thead th {\n",
       "        text-align: right;\n",
       "    }\n",
       "</style>\n",
       "<table border=\"1\" class=\"dataframe\">\n",
       "  <thead>\n",
       "    <tr style=\"text-align: right;\">\n",
       "      <th></th>\n",
       "      <th>user_id</th>\n",
       "      <th>movie_id</th>\n",
       "      <th>rating</th>\n",
       "      <th>datetime</th>\n",
       "      <th>title</th>\n",
       "      <th>release_date</th>\n",
       "    </tr>\n",
       "  </thead>\n",
       "  <tbody>\n",
       "    <tr>\n",
       "      <th>0</th>\n",
       "      <td>196</td>\n",
       "      <td>242</td>\n",
       "      <td>3</td>\n",
       "      <td>1997-12-04 15:55:49</td>\n",
       "      <td>Kolya (1996)</td>\n",
       "      <td>24-Jan-1997</td>\n",
       "    </tr>\n",
       "    <tr>\n",
       "      <th>1</th>\n",
       "      <td>186</td>\n",
       "      <td>302</td>\n",
       "      <td>3</td>\n",
       "      <td>1998-04-04 19:22:22</td>\n",
       "      <td>L.A. Confidential (1997)</td>\n",
       "      <td>01-Jan-1997</td>\n",
       "    </tr>\n",
       "    <tr>\n",
       "      <th>2</th>\n",
       "      <td>22</td>\n",
       "      <td>377</td>\n",
       "      <td>1</td>\n",
       "      <td>1997-11-07 07:18:36</td>\n",
       "      <td>Heavyweights (1994)</td>\n",
       "      <td>01-Jan-1994</td>\n",
       "    </tr>\n",
       "    <tr>\n",
       "      <th>3</th>\n",
       "      <td>244</td>\n",
       "      <td>51</td>\n",
       "      <td>2</td>\n",
       "      <td>1997-11-27 05:02:03</td>\n",
       "      <td>Legends of the Fall (1994)</td>\n",
       "      <td>01-Jan-1994</td>\n",
       "    </tr>\n",
       "    <tr>\n",
       "      <th>4</th>\n",
       "      <td>166</td>\n",
       "      <td>346</td>\n",
       "      <td>1</td>\n",
       "      <td>1998-02-02 05:33:16</td>\n",
       "      <td>Jackie Brown (1997)</td>\n",
       "      <td>01-Jan-1997</td>\n",
       "    </tr>\n",
       "  </tbody>\n",
       "</table>\n",
       "</div>"
      ],
      "text/plain": [
       "   user_id  movie_id  rating            datetime                       title  \\\n",
       "0      196       242       3 1997-12-04 15:55:49                Kolya (1996)   \n",
       "1      186       302       3 1998-04-04 19:22:22    L.A. Confidential (1997)   \n",
       "2       22       377       1 1997-11-07 07:18:36         Heavyweights (1994)   \n",
       "3      244        51       2 1997-11-27 05:02:03  Legends of the Fall (1994)   \n",
       "4      166       346       1 1998-02-02 05:33:16         Jackie Brown (1997)   \n",
       "\n",
       "  release_date  \n",
       "0  24-Jan-1997  \n",
       "1  01-Jan-1997  \n",
       "2  01-Jan-1994  \n",
       "3  01-Jan-1994  \n",
       "4  01-Jan-1997  "
      ]
     },
     "execution_count": 9,
     "metadata": {},
     "output_type": "execute_result"
    }
   ],
   "source": [
    "ratings_movies = ratings.merge(movies[[\"movie_id\", \"title\", \"release_date\"]], on=\"movie_id\", how=\"left\")\n",
    "\n",
    "print(f\"Merged shape: {ratings_movies.shape}\")\n",
    "ratings_movies.head(5)"
   ]
  },
  {
   "cell_type": "code",
   "execution_count": 10,
   "id": "4e34e42f",
   "metadata": {},
   "outputs": [
    {
     "name": "stdout",
     "output_type": "stream",
     "text": [
      "Nulls after merge:\n",
      "user_id          0\n",
      "movie_id         0\n",
      "rating           0\n",
      "datetime         0\n",
      "title           13\n",
      "release_date    13\n",
      "dtype: int64\n"
     ]
    }
   ],
   "source": [
    "# Check nulls after merge\n",
    "print(\"Nulls after merge:\")\n",
    "print(ratings_movies.isnull().sum())"
   ]
  },
  {
   "cell_type": "code",
   "execution_count": 11,
   "id": "3b34a581",
   "metadata": {},
   "outputs": [],
   "source": [
    "ratings_movies = ratings_movies.dropna(subset=[\"title\", \"release_date\"])"
   ]
  },
  {
   "cell_type": "markdown",
   "id": "d84aded9",
   "metadata": {},
   "source": [
    "## Exports\n",
    "Persist clean tables for reuse in later notebooks: `ratings.csv`, `movies.csv`, `users.csv`, and the merged `ratings_movies.csv`.\n"
   ]
  },
  {
   "cell_type": "code",
   "execution_count": 12,
   "id": "ad037b8b",
   "metadata": {},
   "outputs": [
    {
     "name": "stdout",
     "output_type": "stream",
     "text": [
      "Saved to 'Datasets':\n",
      " -->  ratings.csv\n",
      " -->  movies.csv\n",
      " -->  users.csv\n",
      " -->  ratings_movies.csv\n"
     ]
    }
   ],
   "source": [
    "out = Path(\"Datasets\")\n",
    "out.mkdir(exist_ok=True)\n",
    "\n",
    "ratings.to_csv(out / \"ratings.csv\", index=False, encoding=\"utf-8\")\n",
    "movies.to_csv(out / \"movies.csv\", index=False, encoding=\"utf-8\")\n",
    "users.to_csv(out / \"users.csv\", index=False, encoding=\"utf-8\")\n",
    "ratings_movies.to_csv(out / \"ratings_movies.csv\", index=False, encoding=\"utf-8\")\n",
    "\n",
    "print(\"Saved to 'Datasets':\")\n",
    "for f in [\"ratings.csv\",\"movies.csv\",\"users.csv\",\"ratings_movies.csv\"]:\n",
    "    print(\" --> \", f)"
   ]
  }
 ],
 "metadata": {
  "kernelspec": {
   "display_name": "11",
   "language": "python",
   "name": "python3"
  },
  "language_info": {
   "codemirror_mode": {
    "name": "ipython",
    "version": 3
   },
   "file_extension": ".py",
   "mimetype": "text/x-python",
   "name": "python",
   "nbconvert_exporter": "python",
   "pygments_lexer": "ipython3",
   "version": "3.13.5"
  }
 },
 "nbformat": 4,
 "nbformat_minor": 5
}
